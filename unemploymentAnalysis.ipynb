{
 "cells": [
  {
   "cell_type": "code",
   "execution_count": null,
   "metadata": {},
   "outputs": [],
   "source": [
    "import numpy as np\n",
    "import pandas as pd\n",
    "import warnings\n",
    "warnings.filterwarnings('ignore')\n",
    "import matplotlib.pyplot as plt"
   ]
  },
  {
   "cell_type": "code",
   "execution_count": null,
   "metadata": {},
   "outputs": [],
   "source": [
    "unemployed= pd.read_csv(\"Unemployment in India.csv\")\n",
    "unemployed.head()"
   ]
  },
  {
   "cell_type": "code",
   "execution_count": null,
   "metadata": {},
   "outputs": [],
   "source": [
    "unemployed.info()"
   ]
  },
  {
   "attachments": {},
   "cell_type": "markdown",
   "metadata": {},
   "source": [
    "Type of 'Date' column has been set to object. Let's change it to datetime. This will be a new dataframe called year. This dataframe will have a new column 'Year' which will have the year of every row. Then data is grouped by year and 3 columns:\" Estimated Unemployment Rate (%)\",\" Estimated Employed\",\" Estimated Labour Participation Rate (%)\" are taken and their mean for each year is calculated for the new dataframe. This will help us to contrast unemployment rate before and during pandemic"
   ]
  },
  {
   "cell_type": "code",
   "execution_count": null,
   "metadata": {},
   "outputs": [],
   "source": [
    "year=unemployed.copy()# deep copy so changes not reflected in unemployed dataframe\n",
    "year[' Date']=pd.to_datetime(year[' Date'],dayfirst=True)\n",
    "year['Year']=year[' Date'].dt.year\n",
    "year=year.groupby(\"Year\")[[\" Estimated Unemployment Rate (%)\",\" Estimated Employed\",\" Estimated Labour Participation Rate (%)\"]].mean()\n",
    "year=pd.DataFrame(year).reset_index()\n",
    "year.head()\n",
    "unemployed.info()"
   ]
  },
  {
   "cell_type": "code",
   "execution_count": null,
   "metadata": {},
   "outputs": [],
   "source": [
    "unemployed.describe()"
   ]
  },
  {
   "cell_type": "code",
   "execution_count": null,
   "metadata": {},
   "outputs": [],
   "source": [
    "unemployed.tail()"
   ]
  },
  {
   "attachments": {},
   "cell_type": "markdown",
   "metadata": {},
   "source": [
    "Now we will drop all the null rows in the dataframe"
   ]
  },
  {
   "cell_type": "code",
   "execution_count": null,
   "metadata": {},
   "outputs": [],
   "source": [
    "notNullUnemployed=unemployed.dropna()\n",
    "notNullUnemployed.info()"
   ]
  },
  {
   "cell_type": "code",
   "execution_count": null,
   "metadata": {},
   "outputs": [],
   "source": [
    "notNullUnemployed.tail()"
   ]
  },
  {
   "cell_type": "code",
   "execution_count": null,
   "metadata": {},
   "outputs": [],
   "source": [
    "import plotly.express as px"
   ]
  },
  {
   "attachments": {},
   "cell_type": "markdown",
   "metadata": {},
   "source": [
    "We will use plotly to create a bar chart with Estimated Unemployment Rate(%) and Region. We use plotly for the date slider to view unemployment rate in all regions at specific dates."
   ]
  },
  {
   "cell_type": "code",
   "execution_count": null,
   "metadata": {},
   "outputs": [],
   "source": [
    "notNullUnemployed[' Date']=notNullUnemployed[' Date'].astype(\"string\")\n",
    "fig = px.bar(notNullUnemployed,x='Region',y=' Estimated Unemployment Rate (%)', color='Region', animation_frame=str(' Date'), \n",
    "             title=\"Unemployment Rate per State with Date Slider\",template='plotly')\n",
    "fig.update_layout(xaxis={'categoryorder':'total descending'})\n",
    "fig.show()"
   ]
  },
  {
   "attachments": {},
   "cell_type": "markdown",
   "metadata": {},
   "source": [
    "We will plot graphs to contrast data of the various states. For this, we group the dataset by 'Region' column and use the means of 'Estimated Unemployment Rate (%)', 'Estimated Employed' and 'Estimated Labour Participation Rate (%)' for each state."
   ]
  },
  {
   "cell_type": "code",
   "execution_count": null,
   "metadata": {},
   "outputs": [],
   "source": [
    "state=notNullUnemployed.groupby([\"Region\"])[[\" Estimated Unemployment Rate (%)\",\" Estimated Employed\",\" Estimated Labour Participation Rate (%)\"]].mean()\n",
    "state=pd.DataFrame(state).reset_index()\n",
    "state.head()\n"
   ]
  },
  {
   "cell_type": "code",
   "execution_count": null,
   "metadata": {},
   "outputs": [],
   "source": [
    "fig=px.bar(state,x='Region',y=' Estimated Unemployment Rate (%)',color='Region',template='plotly')\n",
    "fig.update_layout(xaxis={'categoryorder':'total descending'})\n",
    "fig.show()"
   ]
  },
  {
   "cell_type": "code",
   "execution_count": null,
   "metadata": {},
   "outputs": [],
   "source": [
    "fig=px.bar(notNullUnemployed,x=\" Date\",y=\" Estimated Unemployment Rate (%)\",animation_frame=\"Region\",\n",
    "           title=\"Unemployment rate over time for each state\",template=\"plotly\")\n",
    "fig.show()"
   ]
  },
  {
   "cell_type": "code",
   "execution_count": null,
   "metadata": {},
   "outputs": [],
   "source": [
    "cov=px.histogram(year,x='Year',y=' Estimated Unemployment Rate (%)',color='Year',template='plotly',title=\"Effect of Covid19 on Unemployment\")\n",
    "cov.show()"
   ]
  },
  {
   "cell_type": "code",
   "execution_count": null,
   "metadata": {},
   "outputs": [],
   "source": [
    "cov=px.histogram(year,x='Year',y=' Estimated Employed',color='Year',template='plotly',title=\"Estimated Employed Before and During Covid19\")\n",
    "cov.show()"
   ]
  },
  {
   "cell_type": "code",
   "execution_count": null,
   "metadata": {},
   "outputs": [],
   "source": [
    "cov=px.histogram(year,x='Year',y=' Estimated Labour Participation Rate (%)',color='Year',template='plotly',title=\"Estimated Labour Participation Rate Before and During Covid19\")\n",
    "cov.show()"
   ]
  }
 ],
 "metadata": {
  "kernelspec": {
   "display_name": "Python 3",
   "language": "python",
   "name": "python3"
  },
  "language_info": {
   "codemirror_mode": {
    "name": "ipython",
    "version": 3
   },
   "file_extension": ".py",
   "mimetype": "text/x-python",
   "name": "python",
   "nbconvert_exporter": "python",
   "pygments_lexer": "ipython3",
   "version": "3.10.6"
  },
  "orig_nbformat": 4,
  "vscode": {
   "interpreter": {
    "hash": "916dbcbb3f70747c44a77c7bcd40155683ae19c65e1c03b4aa3499c5328201f1"
   }
  }
 },
 "nbformat": 4,
 "nbformat_minor": 2
}
